{
 "cells": [
  {
   "cell_type": "code",
   "execution_count": 1,
   "id": "d052247e-5ef4-41ce-ace8-d31f3ae86ae4",
   "metadata": {},
   "outputs": [
    {
     "name": "stdout",
     "output_type": "stream",
     "text": [
      "\n",
      "To-Do List Application\n",
      "1. Add Task\n",
      "2. View Tasks\n",
      "3. Update Task\n",
      "4. Delete Task\n",
      "5. Exit\n"
     ]
    },
    {
     "name": "stdin",
     "output_type": "stream",
     "text": [
      "Enter your choice here(1/2/3/4/5):  1\n",
      "Enter a new task:  complete the tasks by tomorrow\n"
     ]
    },
    {
     "name": "stdout",
     "output_type": "stream",
     "text": [
      "Task added sucessfully!\n",
      "\n",
      "To-Do List Application\n",
      "1. Add Task\n",
      "2. View Tasks\n",
      "3. Update Task\n",
      "4. Delete Task\n",
      "5. Exit\n"
     ]
    },
    {
     "name": "stdin",
     "output_type": "stream",
     "text": [
      "Enter your choice here(1/2/3/4/5):  5\n"
     ]
    },
    {
     "name": "stdout",
     "output_type": "stream",
     "text": [
      "Exiting...\n"
     ]
    }
   ],
   "source": [
    " #task1\n",
    "todo_list = []\n",
    "\n",
    "while True:\n",
    "    print(\"\\nTo-Do List Application\")\n",
    "    print(\"1. Add Task\")\n",
    "    print(\"2. View Tasks\")\n",
    "    print(\"3. Update Task\")\n",
    "    print(\"4. Delete Task\")\n",
    "    print(\"5. Exit\")\n",
    "    \n",
    "    choice = input(\"Enter your choice here(1/2/3/4/5): \")\n",
    "    \n",
    "    if choice == '1':\n",
    "        task = input(\"Enter a new task: \")\n",
    "        todo_list.append(task)\n",
    "        print(\"Task added sucessfully!\")\n",
    "    elif choice == '2':\n",
    "        print(\"\\nTasks:\")\n",
    "        for idx, task in enumerate(todo_list, 1):\n",
    "            print(f\"{idx}. {task}\")\n",
    "    elif choice == '3':\n",
    "        idx = int(input(\"Enter task number to update: \")) - 1\n",
    "        if 0 <= idx < len(todo_list):\n",
    "            todo_list[idx] = input(\"Enter updated task: \")\n",
    "            print(\"Task updated successfully!\")\n",
    "        else:\n",
    "            print(\"Invalid task number given.\")\n",
    "    elif choice == '4':\n",
    "        idx = int(input(\"Enter task number to delete: \")) - 1\n",
    "        if 0 <= idx < len(todo_list):\n",
    "            todo_list.pop(idx)\n",
    "            print(\"Task deleted successfully!\")\n",
    "        else:\n",
    "            print(\"Invalid task number.\")\n",
    "    elif choice == '5':\n",
    "        print(\"Exiting...\")\n",
    "        break\n",
    "    else:\n",
    "        print(\"Invalid choice. Please check the choice you have given.\")\n"
   ]
  },
  {
   "cell_type": "code",
   "execution_count": 3,
   "id": "b4403de1-fb75-4f05-8810-d806ed7e2c1f",
   "metadata": {
    "tags": []
   },
   "outputs": [
    {
     "name": "stdout",
     "output_type": "stream",
     "text": [
      "Simple Calculator\n",
      "Select operation:\n",
      "1. Add\n",
      "2. Subtract\n",
      "3. Multiply\n",
      "4. Divide\n"
     ]
    },
    {
     "name": "stdin",
     "output_type": "stream",
     "text": [
      "Enter your choice here (1/2/3/4):  2\n",
      "Enter first number:  5\n",
      "Enter second number:  2\n"
     ]
    },
    {
     "name": "stdout",
     "output_type": "stream",
     "text": [
      "Operation: Subtraction\n",
      "Result: 3.0\n"
     ]
    }
   ],
   "source": [
    "#task2\n",
    "print(\"Simple Calculator\")\n",
    "print(\"Select operation:\")\n",
    "print(\"1. Add\")\n",
    "print(\"2. Subtract\")\n",
    "print(\"3. Multiply\")\n",
    "print(\"4. Divide\")\n",
    "\n",
    "choice = input(\"Enter your choice here (1/2/3/4): \")\n",
    "\n",
    "if choice in ('1', '2', '3', '4'):\n",
    "    num1 = float(input(\"Enter first number: \"))\n",
    "    num2 = float(input(\"Enter second number: \"))\n",
    "\n",
    "    if choice == '1':\n",
    "        result = num1 + num2\n",
    "        operation = \"Addition\"\n",
    "    elif choice == '2':\n",
    "        result = num1 - num2\n",
    "        operation = \"Subtraction\"\n",
    "    elif choice == '3':\n",
    "        result = num1 * num2\n",
    "        operation = \"Multiplication\"\n",
    "    elif choice == '4':\n",
    "        if num2 != 0:\n",
    "            result = num1 / num2\n",
    "            operation = \"Division\"\n",
    "        else:\n",
    "            result = \"undefined (cannot divide by zero)\"\n",
    "            operation = \"Division\"\n",
    "else:\n",
    "    result = \"Invalid input given\"\n",
    "    operation = \"Invalid\"\n",
    "\n",
    "print(f\"Operation: {operation}\")\n",
    "print(f\"Result: {result}\")\n"
   ]
  },
  {
   "cell_type": "code",
   "execution_count": null,
   "id": "707c95ba-7651-4a7f-a98c-3d40e4092ac2",
   "metadata": {
    "tags": []
   },
   "outputs": [
    {
     "name": "stdout",
     "output_type": "stream",
     "text": [
      "Contact Management System\n",
      "1. Add Contact\n",
      "2. View Contacts\n",
      "3. Search Contact\n",
      "4. Update Contact\n",
      "5. Delete Contact\n",
      "6. Exit\n"
     ]
    },
    {
     "name": "stdin",
     "output_type": "stream",
     "text": [
      "Enter your choice number here:  1\n",
      "Enter name of the person:  amrutha\n",
      "Enter phone number:  121111123441\n",
      "Enter email:  sanaganaamrutha@gmail.com\n",
      "Enter address:  westgodavari\n"
     ]
    },
    {
     "name": "stdout",
     "output_type": "stream",
     "text": [
      "Contact amrutha Info added successfully!\n",
      "Contact Management System\n",
      "1. Add Contact\n",
      "2. View Contacts\n",
      "3. Search Contact\n",
      "4. Update Contact\n",
      "5. Delete Contact\n",
      "6. Exit\n"
     ]
    },
    {
     "name": "stdin",
     "output_type": "stream",
     "text": [
      "Enter your choice number here:  6\n"
     ]
    },
    {
     "name": "stdout",
     "output_type": "stream",
     "text": [
      "Contact Management System\n",
      "1. Add Contact\n",
      "2. View Contacts\n",
      "3. Search Contact\n",
      "4. Update Contact\n",
      "5. Delete Contact\n",
      "6. Exit\n"
     ]
    }
   ],
   "source": [
    "#task5\n",
    "contacts = []\n",
    "\n",
    "def add_contact():\n",
    "    contact = {\n",
    "        \"name\": input(\"Enter name of the person: \"),\n",
    "        \"phone\": input(\"Enter phone number: \"),\n",
    "        \"email\": input(\"Enter email: \"),\n",
    "        \"address\": input(\"Enter address: \")\n",
    "    }\n",
    "    contacts.append(contact)\n",
    "    print(f\"Contact {contact['name']} Info added successfully!\")\n",
    "\n",
    "def view_contacts():\n",
    "    if not contacts:\n",
    "        print(\"No contacts found.\")\n",
    "    else:\n",
    "        for contact in contacts:\n",
    "            print_contact(contact)\n",
    "\n",
    "def print_contact(contact):\n",
    "    print(f\"Name: {contact['name']}\\nPhone no: {contact['phone']}\\nEmail: {contact['email']}\\nAddress: {contact['address']}\\n\")\n",
    "\n",
    "def search_contact():\n",
    "    term = input(\"Enter name or phone number to search the contact: \").lower()\n",
    "    found = [c for c in contacts if term in c['name'].lower() or term in c['phone']]\n",
    "    if not found:\n",
    "        print(\"No contacts found.\")\n",
    "    else:\n",
    "        for contact in found:\n",
    "            print_contact(contact)\n",
    "\n",
    "def update_contact():\n",
    "    term = input(\"Enter name or phone number to update the contact: \").lower()\n",
    "    found = [c for c in contacts if term in c['name'].lower() or term in c['phone']]\n",
    "    if not found:\n",
    "        print(\"No contacts found.\")\n",
    "    else:\n",
    "        contact = found[0]\n",
    "        print(\"Current contact details:\")\n",
    "        print_contact(contact)\n",
    "        for key in contact:\n",
    "            new_value = input(f\"Enter new {key} (leave blank to keep current): \")\n",
    "            if new_value:\n",
    "                contact[key] = new_value\n",
    "        print(\"Contact updated successfully!\")\n",
    "\n",
    "def delete_contact():\n",
    "    term = input(\"Enter name or phone number to delete: \").lower()\n",
    "    found = [c for c in contacts if term in c['name'].lower() or term in c['phone']]\n",
    "    if not found:\n",
    "        print(\"No contacts found.\")\n",
    "    else:\n",
    "        contacts.remove(found[0])\n",
    "        print(f\"Contact {found[0]['name']} deleted successfully!\")\n",
    "\n",
    "def display_menu():\n",
    "    print(\"Contact Management System\")\n",
    "    print(\"1. Add Contact\")\n",
    "    print(\"2. View Contacts\")\n",
    "    print(\"3. Search Contact\")\n",
    "    print(\"4. Update Contact\")\n",
    "    print(\"5. Delete Contact\")\n",
    "    print(\"6. Exit\")\n",
    "\n",
    "def main():\n",
    "    options = {\n",
    "        '1': add_contact,\n",
    "        '2': view_contacts,\n",
    "        '3': search_contact,\n",
    "        '4': update_contact,\n",
    "        '5': delete_contact,\n",
    "        '6': exit\n",
    "    }\n",
    "\n",
    "    while True:\n",
    "        display_menu()\n",
    "        choice = input(\"Enter your choice number here: \")\n",
    "        action = options.get(choice)\n",
    "        if action:\n",
    "            action()\n",
    "        else:\n",
    "            print(\"Invalid choice. Please check the choices again\")\n",
    "\n",
    "if __name__ == \"__main__\":\n",
    "    main()\n",
    "\n"
   ]
  },
  {
   "cell_type": "code",
   "execution_count": null,
   "id": "ffd813dc-9b31-42f2-a385-08903f63f148",
   "metadata": {},
   "outputs": [],
   "source": []
  },
  {
   "cell_type": "code",
   "execution_count": null,
   "id": "5e65b535-b9e4-4b3e-b16c-cc06158e1e3b",
   "metadata": {},
   "outputs": [],
   "source": []
  }
 ],
 "metadata": {
  "kernelspec": {
   "display_name": "Python 3 (ipykernel)",
   "language": "python",
   "name": "python3"
  },
  "language_info": {
   "codemirror_mode": {
    "name": "ipython",
    "version": 3
   },
   "file_extension": ".py",
   "mimetype": "text/x-python",
   "name": "python",
   "nbconvert_exporter": "python",
   "pygments_lexer": "ipython3",
   "version": "3.11.5"
  }
 },
 "nbformat": 4,
 "nbformat_minor": 5
}
